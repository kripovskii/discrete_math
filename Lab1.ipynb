{
 "cells": [
  {
   "cell_type": "markdown",
   "metadata": {},
   "source": [
    "# 1.Задание\n",
    "Создать программу на Pyton, в которой необходимо\n",
    "- ввести имя на усмотрение преподавателя, например, Сергей\n",
    "- вывести результат «Сергей находится в ВВГУ»"
   ]
  },
  {
   "cell_type": "code",
   "execution_count": 4,
   "metadata": {},
   "outputs": [
    {
     "name": "stdout",
     "output_type": "stream",
     "text": [
      "Сергей находится в ВВГУ\n"
     ]
    }
   ],
   "source": [
    "def PrintName(name):\n",
    "    print(f'{name} находится в ВВГУ')\n",
    "name = input(\"Введите имя\")\n",
    "PrintName(name)\n"
   ]
  },
  {
   "cell_type": "markdown",
   "metadata": {},
   "source": [
    "# Задание 2\n",
    "\n",
    "Вася не смог попасть в магазин в Италии. Несмотря на удачно подобранное время\n",
    "посещения магазина в этот день в городе праздновался день броколетти (цветной\n",
    "капусты) и магазин был закрыт по случаю праздника. Зато Вася смог купить билет до\n",
    "Испании за сущие копейки. В Испании есть магазин, который открыт с A до B часов\n",
    "включительно. Испания - жаркая страна, поэтому с C до D часов включительно\n",
    "наступает сиеста, когда все заведения, включая магазин, закрыты. При этом A < B, C <\n",
    "D. Обратите внимание, что время сиесты не обязательно полностью содержится в\n",
    "интервале работы магазина. Вася может прийти в испанский магазин в X часов.\n",
    "Выведите True если магазин открыт в это время и False, если он закрыт\n",
    "\n",
    "1. Создать программу на Pyton, которая бы позволила:\n",
    "- ввести время открытия магазина А, D\n",
    "- ввести время закрытия C, B\n",
    "- ввести время, когда Вася пришел в магазин\n",
    "- вывести результат – Магазин открыт / Магазин закрыт\n"
   ]
  },
  {
   "cell_type": "code",
   "execution_count": 5,
   "metadata": {},
   "outputs": [
    {
     "name": "stdout",
     "output_type": "stream",
     "text": [
      "Магазин открыт\n"
     ]
    }
   ],
   "source": [
    "\n",
    "storeOpen = int(input(\"Введите время открытия магазина (A): \"))\n",
    "storeClose = int(input(\"Введите время закрытия магазина (B): \"))\n",
    "\n",
    "\n",
    "siestaStart = int(input(\"Введите начало сиесты (C): \"))\n",
    "siestaEnd =   int(input(\"Введите конец сиесты (D): \"))\n",
    "\n",
    "\n",
    "arrivingAtStore = int(input(\"Введите время, когда Вася пришел в магазин (X): \"))\n",
    "\n",
    "\n",
    "if storeOpen <= arrivingAtStore <= storeClose and not (siestaStart <= arrivingAtStore <= siestaEnd):\n",
    "    print(\"Магазин открыт\")\n",
    "else:\n",
    "    print(\"Магазин закрыт\")"
   ]
  }
 ],
 "metadata": {
  "kernelspec": {
   "display_name": "venv",
   "language": "python",
   "name": "python3"
  },
  "language_info": {
   "codemirror_mode": {
    "name": "ipython",
    "version": 3
   },
   "file_extension": ".py",
   "mimetype": "text/x-python",
   "name": "python",
   "nbconvert_exporter": "python",
   "pygments_lexer": "ipython3",
   "version": "3.12.3"
  }
 },
 "nbformat": 4,
 "nbformat_minor": 2
}
