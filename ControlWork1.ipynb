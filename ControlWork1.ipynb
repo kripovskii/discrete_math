{
 "cells": [
  {
   "cell_type": "markdown",
   "id": "562884b9",
   "metadata": {},
   "source": [
    "# Задание 1 \n",
    "Запишите символически следующие сложные предложения, употребляя буквы для обозначения простых компонентов предложения.\n",
    "\n",
    "- Если идет дождь, то улицы мокрые\n",
    "\n",
    "## Ответ на задание 1:\n",
    "\n",
    "Пусть:  \n",
    " **A** = \"Идёт дождь\", **B** = \"Улицы мокрые\".  \n",
    "\n",
    "Тогда данное предложение символически можно записать в виде:  $A$, то $B$: $A \\rightarrow B$\n"
   ]
  },
  {
   "cell_type": "markdown",
   "id": "f3862d35",
   "metadata": {},
   "source": [
    "# Задание 2\n",
    "\n",
    "Построим таблицу истинности для высказывания $ AC \\rightarrow (A \\lor AC) $ (где AC - это отдельное высказывание, а не произведение A и C).\n",
    "\n",
    "### Шаг 1: Определим переменные\n",
    "Пусть:\n",
    "- **A** - первое высказывание\n",
    "- **C** - второе высказывание\n",
    "- **AC** - третье независимое высказывание (рассматривается как единое целое)\n",
    "\n",
    "### Шаг 2: Составим таблицу истинности\n",
    "\n",
    "| A | C | AC | A∨AC | AC→(A∨AC) |\n",
    "|---|---|----|------|----------|\n",
    "| 0 | 0 | 0  | 0    | 1        |\n",
    "| 0 | 0 | 1  | 1    | 1        |\n",
    "| 0 | 1 | 0  | 0    | 1        |\n",
    "| 0 | 1 | 1  | 1    | 1        |\n",
    "| 1 | 0 | 0  | 1    | 1        |\n",
    "| 1 | 0 | 1  | 1    | 1        |\n",
    "| 1 | 1 | 0  | 1    | 1        |\n",
    "| 1 | 1 | 1  | 1    | 1        |\n",
    "\n",
    "### Шаг 3: Анализ результатов\n",
    "1. В таблице представлены все возможные комбинации значений истинности для A, C и AC (8 строк, так как 2³ = 8)\n",
    "2. Столбец $ A \\lor AC $ показывает дизъюнкцию A и AC\n",
    "3. Столбец $ AC \\rightarrow (A \\lor AC) $ демонстрирует, что импликация всегда истинна (1) в данном случае\n",
    "\n",
    "### Вывод:\n",
    "Данное высказывание $ AC \\rightarrow (A \\lor AC) $ является **тавтологией** (всегда истинно при любых значениях переменных).\n"
   ]
  },
  {
   "cell_type": "markdown",
   "id": "7caa925f",
   "metadata": {},
   "source": [
    "# Задание 3.\n",
    "Привести к ДНФ высказывание $ F = (\\overline{ABC} \\leftrightarrow BC \\vee \\overline{A \\rightarrow B}) \\vee \\overline{BC} \\rightarrow A $\n",
    "\n",
    "### Решение\n",
    "$$\n",
    "\\begin{aligned}\n",
    "F &= (\\overline{ABC} \\leftrightarrow BC \\vee \\overline{A \\rightarrow B}) \\vee \\overline{BC} \\rightarrow A \\\\\n",
    "&= \\overline{(\\overline{ABC} \\leftrightarrow (BC \\vee (A \\wedge \\overline{B}))) \\vee \\overline{BC}} \\vee A \\\\\n",
    "&= ((\\overline{ABC} \\wedge (BC \\vee A \\wedge \\overline{B})) \\vee (ABC \\wedge \\overline{(BC \\vee A \\wedge \\overline{B})})) \\vee \\overline{BC} \\rightarrow A \\\\\n",
    "&= ((\\overline{ABC} \\wedge BC) \\vee (\\overline{ABC} \\wedge A \\wedge \\overline{B}) \\vee (ABC \\wedge \\overline{BC} \\wedge \\overline{A}) \\vee (ABC \\wedge \\overline{BC} \\wedge B)) \\vee A \\\\\n",
    "&= A\n",
    "\\end{aligned}\n",
    "\n",
    "$$"
   ]
  }
 ],
 "metadata": {
  "language_info": {
   "name": "python"
  }
 },
 "nbformat": 4,
 "nbformat_minor": 5
}
